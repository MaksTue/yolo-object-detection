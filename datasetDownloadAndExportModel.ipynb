{
 "cells": [
  {
   "metadata": {},
   "cell_type": "code",
   "outputs": [],
   "execution_count": null,
   "source": [
    "#Загрузка датасета из Roboflow\n",
    "from roboflow import Roboflow\n",
    "rf = Roboflow(api_key=<your_api>)\n",
    "project = rf.workspace(<roboflow_workspace_name>).project(<roboflow_project_name>)\n",
    "version = project.version(1)\n",
    "dataset = version.download(\"yolov8\", path=\"dataset\")\n",
    "                "
   ],
   "id": "f36b569eac9e3930"
  },
  {
   "metadata": {},
   "cell_type": "code",
   "outputs": [],
   "execution_count": null,
   "source": [
    "#Экспорт в формат tflite (для Android)\n",
    "from ultralytics import YOLO\n",
    "model = YOLO(\"<path/to>/train/weights/best.pt\")  \n",
    "model.export(format=\"tflite\")  "
   ],
   "id": "c5395e8b4870c242"
  },
  {
   "metadata": {},
   "cell_type": "code",
   "source": [
    "# Запуск валидации\n",
    "# Также проверить чтобы в data.yaml тоже были правильные пути\n",
    "!yolo detect val model=<path_to_your_model> data=<path_to_your_data_yaml>"
   ],
   "id": "95ccec14e56d560b",
   "outputs": [],
   "execution_count": null
  }
 ],
 "metadata": {
  "kernelspec": {
   "display_name": "Python 3",
   "language": "python",
   "name": "python3"
  },
  "language_info": {
   "codemirror_mode": {
    "name": "ipython",
    "version": 2
   },
   "file_extension": ".py",
   "mimetype": "text/x-python",
   "name": "python",
   "nbconvert_exporter": "python",
   "pygments_lexer": "ipython2",
   "version": "2.7.6"
  }
 },
 "nbformat": 4,
 "nbformat_minor": 5
}
